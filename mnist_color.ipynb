{
 "cells": [
  {
   "cell_type": "code",
   "execution_count": 1,
   "metadata": {},
   "outputs": [],
   "source": [
    "# first neural network with keras tutorial\n",
    "from tensorflow import keras\n",
    "from tensorflow.keras import layers\n",
    "import tensorflow as tf\n",
    "\n",
    "import numpy as np\n",
    "import pandas as pd\n",
    "import os\n",
    "import PIL\n",
    "import PIL.Image\n",
    "import tensorflow as tf\n",
    "\n",
    "#from sklearn.model_selection import train_test_split"
   ]
  },
  {
   "cell_type": "code",
   "execution_count": 2,
   "metadata": {},
   "outputs": [
    {
     "name": "stdout",
     "output_type": "stream",
     "text": [
      "Found 10000 files belonging to 10 classes.\n",
      "Using 8000 files for training.\n"
     ]
    }
   ],
   "source": [
    "train_ds = keras.utils.image_dataset_from_directory(\n",
    "    'data/',\n",
    "    validation_split=0.2,\n",
    "    subset=\"training\",\n",
    "    image_size=(28, 28),\n",
    "    seed=132,\n",
    "    batch_size=32\n",
    ")"
   ]
  },
  {
   "cell_type": "code",
   "execution_count": 3,
   "metadata": {},
   "outputs": [],
   "source": [
    "# let's separate train_ds into X_train and y_train\n",
    "\n",
    "X_train = []\n",
    "y_train = []\n",
    "\n",
    "for images, labels in train_ds:\n",
    "    for image in images:\n",
    "        X_train.append(image)\n",
    "    for label in labels:\n",
    "        y_train.append(label)\n",
    "\n",
    "X_train = np.array(X_train)\n",
    "y_train = np.array(y_train)"
   ]
  },
  {
   "cell_type": "code",
   "execution_count": 4,
   "metadata": {},
   "outputs": [
    {
     "name": "stdout",
     "output_type": "stream",
     "text": [
      "Found 10000 files belonging to 10 classes.\n",
      "Using 2000 files for validation.\n"
     ]
    }
   ],
   "source": [
    "val_ds = keras.utils.image_dataset_from_directory(\n",
    "    'val_data',\n",
    "    validation_split=0.2,\n",
    "    subset=\"validation\",\n",
    "    image_size=(28, 28),\n",
    "    seed=132,\n",
    "    batch_size=32\n",
    ")"
   ]
  },
  {
   "cell_type": "code",
   "execution_count": 5,
   "metadata": {},
   "outputs": [
    {
     "name": "stdout",
     "output_type": "stream",
     "text": [
      "['0', '1', '2', '3', '4', '5', '6', '7', '8', '9']\n"
     ]
    }
   ],
   "source": [
    "# checking class names\n",
    "\n",
    "print(train_ds.class_names)"
   ]
  },
  {
   "cell_type": "code",
   "execution_count": 6,
   "metadata": {},
   "outputs": [
    {
     "name": "stdout",
     "output_type": "stream",
     "text": [
      "(32, 28, 28, 3)\n",
      "(32,)\n"
     ]
    }
   ],
   "source": [
    "# checking shape of data\n",
    "\n",
    "for image_batch, labels_batch in train_ds:\n",
    "  print(image_batch.shape)\n",
    "  print(labels_batch.shape)\n",
    "  break"
   ]
  },
  {
   "cell_type": "code",
   "execution_count": 7,
   "metadata": {},
   "outputs": [],
   "source": [
    "# import tensorflow as tf\n",
    "# from tensorflow.keras.layers.experimental import preprocessing\n",
    "\n",
    "# # Assume `x_train` and `y_train` are your training images and labels\n",
    "\n",
    "# # Define the data augmentation\n",
    "# data_augmentation = tf.keras.Sequential([\n",
    "#   preprocessing.Rescaling(1./255),\n",
    "#   preprocessing.RandomRotation(0.1),\n",
    "#   preprocessing.RandomContrast(0.5),\n",
    "# ])\n",
    "\n",
    "# # Create empty lists to hold the augmented images and labels\n",
    "# x_train_augmented = []\n",
    "# y_train_augmented = []\n",
    "\n",
    "# # For each image in the training set\n",
    "# for x, y in zip(train_X, train_y):\n",
    "#     # Create 5 augmented versions of the image\n",
    "#     for _ in range(2):\n",
    "#         augmented_image = data_augmentation(tf.expand_dims(x, 0), training=True)\n",
    "#         x_train_augmented.append(tf.squeeze(augmented_image).numpy())\n",
    "#         y_train_augmented.append(y)\n",
    "\n",
    "# # Convert the lists to numpy arrays\n",
    "# x_train_augmented = np.array(x_train_augmented)\n",
    "# y_train_augmented = np.array(y_train_augmented)"
   ]
  },
  {
   "cell_type": "code",
   "execution_count": 8,
   "metadata": {},
   "outputs": [],
   "source": [
    "# configure for performance\n",
    "\n",
    "AUTOTUNE = tf.data.AUTOTUNE\n",
    "\n",
    "train_ds = train_ds.cache().prefetch(buffer_size=AUTOTUNE)\n",
    "val_ds = val_ds.cache().prefetch(buffer_size=AUTOTUNE)"
   ]
  },
  {
   "cell_type": "code",
   "execution_count": 9,
   "metadata": {},
   "outputs": [],
   "source": [
    "# standardize layer\n",
    "\n",
    "normalization_layer = tf.keras.layers.Rescaling(1./255)\n",
    "\n",
    "augmentation = tf.keras.Sequential([\n",
    "    keras.layers.RandomBrightness(0.1),\n",
    "    keras.layers.RandomRotation(0.1),\n",
    "    keras.layers.RandomContrast(0.1),\n",
    "])"
   ]
  },
  {
   "cell_type": "code",
   "execution_count": 10,
   "metadata": {},
   "outputs": [],
   "source": [
    "# building our model\n",
    "\n",
    "model = tf.keras.Sequential([\n",
    "  # augmentation,\n",
    "  normalization_layer,\n",
    "\n",
    "  keras.layers.Conv2D(32, kernel_size=(3,3), activation='relu'),\n",
    "  keras.layers.Conv2D(32, kernel_size=(3,3), activation='relu'),\n",
    "  keras.layers.MaxPooling2D(pool_size=(2,2)),\n",
    "  keras.layers.Dropout(0.2),\n",
    "\n",
    "  keras.layers.Conv2D(32, kernel_size=(3,3), activation='relu'),\n",
    "  keras.layers.Conv2D(32, kernel_size=(3,3), activation='relu'),\n",
    "  keras.layers.MaxPooling2D(pool_size=(2,2)),\n",
    "  keras.layers.Dropout(0.2),  \n",
    "\n",
    "  tf.keras.layers.Flatten(),\n",
    "  keras.layers.Dropout(0.2),\n",
    "\n",
    "  tf.keras.layers.Dense(40, activation='relu'),\n",
    "  tf.keras.layers.Dense(40, activation='relu'),\n",
    "  tf.keras.layers.Dense(10, activation='softmax')\n",
    "])"
   ]
  },
  {
   "cell_type": "code",
   "execution_count": 11,
   "metadata": {},
   "outputs": [],
   "source": [
    "model.compile (\n",
    "    optimizer='adam',\n",
    "    loss='sparse_categorical_crossentropy',\n",
    "    metrics=['accuracy']\n",
    ")"
   ]
  },
  {
   "cell_type": "code",
   "execution_count": 12,
   "metadata": {},
   "outputs": [],
   "source": [
    "all_callbacks = keras.callbacks.EarlyStopping(\n",
    "    monitor='val_accuracy',\n",
    "    patience=10,\n",
    "    verbose=1,\n",
    "    mode='auto',\n",
    "    restore_best_weights=True\n",
    ")"
   ]
  },
  {
   "cell_type": "code",
   "execution_count": 13,
   "metadata": {},
   "outputs": [
    {
     "name": "stdout",
     "output_type": "stream",
     "text": [
      "Epoch 1/100\n",
      "250/250 [==============================] - 3s 9ms/step - loss: 0.9704 - accuracy: 0.6654 - val_loss: 0.2673 - val_accuracy: 0.9190\n",
      "Epoch 2/100\n",
      "250/250 [==============================] - 2s 9ms/step - loss: 0.2688 - accuracy: 0.9154 - val_loss: 0.1602 - val_accuracy: 0.9475\n",
      "Epoch 3/100\n",
      "250/250 [==============================] - 2s 9ms/step - loss: 0.1828 - accuracy: 0.9391 - val_loss: 0.1124 - val_accuracy: 0.9660\n",
      "Epoch 4/100\n",
      "250/250 [==============================] - 2s 10ms/step - loss: 0.1454 - accuracy: 0.9531 - val_loss: 0.1050 - val_accuracy: 0.9660\n",
      "Epoch 5/100\n",
      "250/250 [==============================] - 2s 9ms/step - loss: 0.1240 - accuracy: 0.9610 - val_loss: 0.0895 - val_accuracy: 0.9715\n",
      "Epoch 6/100\n",
      "250/250 [==============================] - 2s 9ms/step - loss: 0.1040 - accuracy: 0.9650 - val_loss: 0.0897 - val_accuracy: 0.9720\n",
      "Epoch 7/100\n",
      "250/250 [==============================] - 2s 9ms/step - loss: 0.0951 - accuracy: 0.9681 - val_loss: 0.1036 - val_accuracy: 0.9695\n",
      "Epoch 8/100\n",
      "250/250 [==============================] - 2s 10ms/step - loss: 0.0924 - accuracy: 0.9689 - val_loss: 0.0894 - val_accuracy: 0.9740\n",
      "Epoch 9/100\n",
      "250/250 [==============================] - 3s 10ms/step - loss: 0.0869 - accuracy: 0.9703 - val_loss: 0.0953 - val_accuracy: 0.9730\n",
      "Epoch 10/100\n",
      "250/250 [==============================] - 2s 9ms/step - loss: 0.0792 - accuracy: 0.9749 - val_loss: 0.0799 - val_accuracy: 0.9770\n",
      "Epoch 11/100\n",
      "250/250 [==============================] - 2s 10ms/step - loss: 0.0708 - accuracy: 0.9758 - val_loss: 0.0620 - val_accuracy: 0.9815\n",
      "Epoch 12/100\n",
      "250/250 [==============================] - 2s 9ms/step - loss: 0.0721 - accuracy: 0.9758 - val_loss: 0.0709 - val_accuracy: 0.9785\n",
      "Epoch 13/100\n",
      "250/250 [==============================] - 2s 10ms/step - loss: 0.0551 - accuracy: 0.9829 - val_loss: 0.0672 - val_accuracy: 0.9775\n",
      "Epoch 14/100\n",
      "250/250 [==============================] - 2s 10ms/step - loss: 0.0542 - accuracy: 0.9821 - val_loss: 0.0851 - val_accuracy: 0.9800\n",
      "Epoch 15/100\n",
      "250/250 [==============================] - 2s 9ms/step - loss: 0.0530 - accuracy: 0.9825 - val_loss: 0.0846 - val_accuracy: 0.9790\n",
      "Epoch 16/100\n",
      "250/250 [==============================] - 2s 10ms/step - loss: 0.0451 - accuracy: 0.9839 - val_loss: 0.0810 - val_accuracy: 0.9835\n",
      "Epoch 17/100\n",
      "250/250 [==============================] - 3s 10ms/step - loss: 0.0505 - accuracy: 0.9830 - val_loss: 0.0638 - val_accuracy: 0.9790\n",
      "Epoch 18/100\n",
      "250/250 [==============================] - 3s 10ms/step - loss: 0.0519 - accuracy: 0.9827 - val_loss: 0.0690 - val_accuracy: 0.9800\n",
      "Epoch 19/100\n",
      "250/250 [==============================] - 2s 10ms/step - loss: 0.0444 - accuracy: 0.9843 - val_loss: 0.0809 - val_accuracy: 0.9810\n",
      "Epoch 20/100\n",
      "250/250 [==============================] - 3s 11ms/step - loss: 0.0458 - accuracy: 0.9839 - val_loss: 0.0686 - val_accuracy: 0.9790\n",
      "Epoch 21/100\n",
      "250/250 [==============================] - 2s 10ms/step - loss: 0.0445 - accuracy: 0.9846 - val_loss: 0.0805 - val_accuracy: 0.9795\n",
      "Epoch 22/100\n",
      "250/250 [==============================] - 3s 10ms/step - loss: 0.0390 - accuracy: 0.9869 - val_loss: 0.0635 - val_accuracy: 0.9815\n",
      "Epoch 23/100\n",
      "250/250 [==============================] - 3s 10ms/step - loss: 0.0349 - accuracy: 0.9881 - val_loss: 0.0644 - val_accuracy: 0.9820\n",
      "Epoch 24/100\n",
      "250/250 [==============================] - 2s 9ms/step - loss: 0.0348 - accuracy: 0.9887 - val_loss: 0.0609 - val_accuracy: 0.9855\n",
      "Epoch 25/100\n",
      "250/250 [==============================] - 2s 10ms/step - loss: 0.0358 - accuracy: 0.9876 - val_loss: 0.0594 - val_accuracy: 0.9855\n",
      "Epoch 26/100\n",
      "250/250 [==============================] - 2s 10ms/step - loss: 0.0348 - accuracy: 0.9881 - val_loss: 0.0606 - val_accuracy: 0.9840\n",
      "Epoch 27/100\n",
      "250/250 [==============================] - 2s 10ms/step - loss: 0.0309 - accuracy: 0.9890 - val_loss: 0.0757 - val_accuracy: 0.9850\n",
      "Epoch 28/100\n",
      "250/250 [==============================] - 3s 10ms/step - loss: 0.0361 - accuracy: 0.9869 - val_loss: 0.0758 - val_accuracy: 0.9840\n",
      "Epoch 29/100\n",
      "250/250 [==============================] - 2s 10ms/step - loss: 0.0363 - accuracy: 0.9871 - val_loss: 0.0644 - val_accuracy: 0.9875\n",
      "Epoch 30/100\n",
      "250/250 [==============================] - 3s 11ms/step - loss: 0.0247 - accuracy: 0.9915 - val_loss: 0.0697 - val_accuracy: 0.9815\n",
      "Epoch 31/100\n",
      "250/250 [==============================] - 3s 11ms/step - loss: 0.0266 - accuracy: 0.9916 - val_loss: 0.0510 - val_accuracy: 0.9870\n",
      "Epoch 32/100\n",
      "250/250 [==============================] - 3s 11ms/step - loss: 0.0261 - accuracy: 0.9908 - val_loss: 0.0721 - val_accuracy: 0.9835\n",
      "Epoch 33/100\n",
      "250/250 [==============================] - 3s 11ms/step - loss: 0.0333 - accuracy: 0.9899 - val_loss: 0.0689 - val_accuracy: 0.9815\n",
      "Epoch 34/100\n",
      "250/250 [==============================] - 3s 11ms/step - loss: 0.0281 - accuracy: 0.9906 - val_loss: 0.0859 - val_accuracy: 0.9810\n",
      "Epoch 35/100\n",
      "250/250 [==============================] - 3s 11ms/step - loss: 0.0313 - accuracy: 0.9906 - val_loss: 0.0674 - val_accuracy: 0.9845\n",
      "Epoch 36/100\n",
      "250/250 [==============================] - 3s 11ms/step - loss: 0.0307 - accuracy: 0.9900 - val_loss: 0.0708 - val_accuracy: 0.9800\n",
      "Epoch 37/100\n",
      "250/250 [==============================] - 3s 11ms/step - loss: 0.0260 - accuracy: 0.9918 - val_loss: 0.0620 - val_accuracy: 0.9855\n",
      "Epoch 38/100\n",
      "250/250 [==============================] - 3s 11ms/step - loss: 0.0214 - accuracy: 0.9925 - val_loss: 0.0728 - val_accuracy: 0.9840\n",
      "Epoch 39/100\n",
      "245/250 [============================>.] - ETA: 0s - loss: 0.0194 - accuracy: 0.9939Restoring model weights from the end of the best epoch: 29.\n",
      "250/250 [==============================] - 3s 11ms/step - loss: 0.0203 - accuracy: 0.9936 - val_loss: 0.0812 - val_accuracy: 0.9845\n",
      "Epoch 39: early stopping\n"
     ]
    },
    {
     "data": {
      "text/plain": [
       "<keras.src.callbacks.History at 0x28f3af090>"
      ]
     },
     "execution_count": 13,
     "metadata": {},
     "output_type": "execute_result"
    }
   ],
   "source": [
    "model.fit(\n",
    "    train_ds,\n",
    "    validation_data=val_ds,\n",
    "    callbacks=[all_callbacks],\n",
    "    epochs=100\n",
    ")"
   ]
  },
  {
   "cell_type": "code",
   "execution_count": 14,
   "metadata": {},
   "outputs": [
    {
     "name": "stdout",
     "output_type": "stream",
     "text": [
      "Found 10000 files belonging to 10 classes.\n",
      "313/313 - 1s - loss: 0.0161 - accuracy: 0.9965 - 1s/epoch - 4ms/step\n",
      "\n",
      "Test accuracy: [0.01608314737677574, 0.9965000152587891]\n"
     ]
    }
   ],
   "source": [
    "# let's evaluate our model\n",
    "\n",
    "# and load the test data real quick\n",
    "test_ds = keras.utils.image_dataset_from_directory(\n",
    "    'pure_data/colorized-MNIST/testing/',\n",
    "    image_size=(28, 28),\n",
    "    seed=132,\n",
    "    batch_size=32\n",
    ")\n",
    "\n",
    "test_acc = model.evaluate(test_ds, verbose=2)\n",
    "\n",
    "print('\\nTest accuracy:', test_acc)"
   ]
  },
  {
   "cell_type": "code",
   "execution_count": 15,
   "metadata": {},
   "outputs": [],
   "source": [
    "# VGG 16 - no standardization, no augmentation - 97.2% accuracy\n",
    "# Somehow achieved 99.7% accuracy on test set, which i didn't expect, investigating...\n",
    "# Now 99.91 which feels sorta impossible. Investigating...\n",
    "\n",
    "# Found later that my accuracy code was incorrect. Is fixed now.\n",
    "\n",
    "# Control : 99.6%\n",
    "# Light blurring : 99.4%\n",
    "# Heavy blurring : 94.7%\n",
    "# Mega-Ultra blurring : 44.4%\n",
    "\n"
   ]
  },
  {
   "cell_type": "code",
   "execution_count": 16,
   "metadata": {},
   "outputs": [],
   "source": [
    "# let's split our test data into X_test and y_test\n",
    "\n",
    "X_test = []\n",
    "y_test = []\n",
    "\n",
    "for images, labels in test_ds:\n",
    "    for image in images:\n",
    "        X_test.append(image)\n",
    "    for label in labels:\n",
    "        y_test.append(label)\n",
    "\n",
    "X_test = np.array(X_test)\n",
    "y_test = np.array(y_test)"
   ]
  },
  {
   "cell_type": "code",
   "execution_count": 17,
   "metadata": {},
   "outputs": [
    {
     "name": "stdout",
     "output_type": "stream",
     "text": [
      "313/313 [==============================] - 1s 3ms/step\n"
     ]
    },
    {
     "data": {
      "image/png": "[encoded data removed]",
      "text/plain": [
       "<Figure size 1000x1000 with 2 Axes>"
      ]
     },
     "metadata": {},
     "output_type": "display_data"
    }
   ],
   "source": [
    "# let's create a confusion matrix with our test data\n",
    "\n",
    "from sklearn.metrics import confusion_matrix\n",
    "import seaborn as sns\n",
    "\n",
    "y_pred = model.predict(X_test)\n",
    "y_pred = np.argmax(y_pred, axis=1)\n",
    "\n",
    "cm = confusion_matrix(y_test, y_pred)\n",
    "\n",
    "# let's plot our confusion matrix\n",
    "\n",
    "import matplotlib.pyplot as plt\n",
    "\n",
    "plt.figure(figsize=(10, 10))\n",
    "sns.heatmap(cm, annot=True, fmt='d')\n",
    "plt.xlabel('Predicted')\n",
    "plt.ylabel('Actual')\n",
    "plt.show()"
   ]
  },
  {
   "cell_type": "code",
   "execution_count": null,
   "metadata": {},
   "outputs": [],
   "source": []
  }
 ],
 "metadata": {
  "kernelspec": {
   "display_name": "ds",
   "language": "python",
   "name": "python3"
  },
  "language_info": {
   "codemirror_mode": {
    "name": "ipython",
    "version": 3
   },
   "file_extension": ".py",
   "mimetype": "text/x-python",
   "name": "python",
   "nbconvert_exporter": "python",
   "pygments_lexer": "ipython3",
   "version": "3.11.5"
  }
 },
 "nbformat": 4,
 "nbformat_minor": 2
}
