{
 "cells": [
  {
   "cell_type": "code",
   "execution_count": 7,
   "metadata": {},
   "outputs": [],
   "source": [
    "import os\n",
    "import PIL\n",
    "from PIL import Image, ImageDraw, ImageFilter\n",
    "import PIL.Image"
   ]
  },
  {
   "cell_type": "code",
   "execution_count": 22,
   "metadata": {},
   "outputs": [],
   "source": [
    "# quick pil test\n",
    "\n",
    "test_img = Image.open('data/0/blue_10.png')\n",
    "blur_img = test_img.filter(ImageFilter.BLUR)\n",
    "blur_img.show()\n",
    "\n",
    "# now let's save it to a directory"
   ]
  },
  {
   "cell_type": "code",
   "execution_count": 5,
   "metadata": {},
   "outputs": [],
   "source": [
    "# let's change the rgb values of the image using pillow\n",
    "\n",
    "test_img = Image.open('data/0/blue_1015.png')\n",
    "draw = ImageDraw.Draw(test_img)\n",
    "\n",
    "PIL.ImageColor.getrgb('red')\n",
    "\n",
    "test_img.show()"
   ]
  },
  {
   "cell_type": "code",
   "execution_count": 6,
   "metadata": {},
   "outputs": [],
   "source": [
    "# # we've successully pasted an ellipse onto one of the images from the set\n",
    "# # and saved it to a new directory\n",
    "\n",
    "# # let's now make a function that does this for all images in the dataset\n",
    "\n",
    "# def add_ellipse_to_image(image_path, ellipse_path):\n",
    "#     img = Image.open(image_path)\n",
    "#     draw = ImageDraw.Draw(img)\n",
    "#     draw.ellipse((0,0,20,20), fill=(10,10,10,10), \n",
    "#                 outline=\"black\", width=25)\n",
    "#     img.save(ellipse_path)\n",
    "\n",
    "# # now let's make a function that does this for all images in a directory\n",
    "\n",
    "# def add_ellipse_to_all_images_in_directory(directory):\n",
    "#     for filename in os.listdir(directory):\n",
    "#         if filename.endswith(\".png\"):\n",
    "#             image_path = os.path.join(directory, filename)\n",
    "#             ellipse_path = os.path.join(directory, filename)\n",
    "#             add_ellipse_to_image(image_path, ellipse_path)\n",
    "#             continue\n",
    "#         else:\n",
    "#             continue"
   ]
  },
  {
   "cell_type": "code",
   "execution_count": 29,
   "metadata": {},
   "outputs": [],
   "source": [
    "# same as above but now applying blur filter onto dataset\n",
    "\n",
    "def add_blur_to_image(image_path, blur_path):\n",
    "    img = Image.open(image_path)\n",
    "    blur_img = img.filter(ImageFilter.GaussianBlur(4))\n",
    "    blur_img.save(blur_path)\n",
    "\n",
    "# now let's make a function that does this for all images in a directory\n",
    "\n",
    "def add_blur_to_all_images_in_directory(directory):\n",
    "    for filename in os.listdir(directory):\n",
    "        if filename.endswith(\".png\"):\n",
    "            image_path = os.path.join(directory, filename)\n",
    "            blur_path = os.path.join(directory, filename)\n",
    "            add_blur_to_image(image_path, blur_path)\n",
    "            continue\n",
    "        else:\n",
    "            continue"
   ]
  },
  {
   "cell_type": "code",
   "execution_count": 30,
   "metadata": {},
   "outputs": [],
   "source": [
    "# now let's try it out on all the directories and save it to data/00\n",
    "\n",
    "for i in range(10):\n",
    "    add_blur_to_all_images_in_directory('data/' + str(i))"
   ]
  },
  {
   "cell_type": "code",
   "execution_count": null,
   "metadata": {},
   "outputs": [],
   "source": []
  }
 ],
 "metadata": {
  "kernelspec": {
   "display_name": "ds",
   "language": "python",
   "name": "python3"
  },
  "language_info": {
   "codemirror_mode": {
    "name": "ipython",
    "version": 3
   },
   "file_extension": ".py",
   "mimetype": "text/x-python",
   "name": "python",
   "nbconvert_exporter": "python",
   "pygments_lexer": "ipython3",
   "version": "3.11.5"
  }
 },
 "nbformat": 4,
 "nbformat_minor": 2
}
